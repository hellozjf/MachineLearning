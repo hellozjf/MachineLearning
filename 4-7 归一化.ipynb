{
 "cells": [
  {
   "cell_type": "markdown",
   "metadata": {},
   "source": [
    "# 数据归一化处理"
   ]
  },
  {
   "cell_type": "code",
   "execution_count": 1,
   "metadata": {},
   "outputs": [],
   "source": [
    "import numpy as np\n",
    "import matplotlib.pyplot as plt"
   ]
  },
  {
   "cell_type": "markdown",
   "metadata": {},
   "source": [
    "# 最值归一化Normalization"
   ]
  },
  {
   "cell_type": "code",
   "execution_count": 2,
   "metadata": {},
   "outputs": [
    {
     "data": {
      "text/plain": [
       "array([64, 76, 45, 74, 87, 13, 78, 73, 46,  8, 87, 39, 68, 38, 29, 74, 14,\n",
       "       11, 42, 24, 50, 78, 99, 71, 51, 96, 39, 20, 53,  8, 23, 86, 12, 26,\n",
       "       31,  2, 14, 13, 75, 90, 35, 72, 97, 92, 17, 89, 68,  0, 30, 32, 92,\n",
       "       71, 31, 36, 41,  2, 77, 16,  0, 72, 23, 18, 82, 57, 81, 53, 77, 31,\n",
       "       82, 66, 27,  4, 37, 29, 12, 78, 35, 15, 75, 84,  9, 50, 92, 81, 16,\n",
       "       24, 29, 84, 46, 33, 20,  2, 78, 83, 91, 52, 41, 74, 20, 71])"
      ]
     },
     "execution_count": 2,
     "metadata": {},
     "output_type": "execute_result"
    }
   ],
   "source": [
    "x = np.random.randint(0, 100, size=100)\n",
    "x"
   ]
  },
  {
   "cell_type": "code",
   "execution_count": 3,
   "metadata": {},
   "outputs": [
    {
     "data": {
      "text/plain": [
       "array([0.64646465, 0.76767677, 0.45454545, 0.74747475, 0.87878788,\n",
       "       0.13131313, 0.78787879, 0.73737374, 0.46464646, 0.08080808,\n",
       "       0.87878788, 0.39393939, 0.68686869, 0.38383838, 0.29292929,\n",
       "       0.74747475, 0.14141414, 0.11111111, 0.42424242, 0.24242424,\n",
       "       0.50505051, 0.78787879, 1.        , 0.71717172, 0.51515152,\n",
       "       0.96969697, 0.39393939, 0.2020202 , 0.53535354, 0.08080808,\n",
       "       0.23232323, 0.86868687, 0.12121212, 0.26262626, 0.31313131,\n",
       "       0.02020202, 0.14141414, 0.13131313, 0.75757576, 0.90909091,\n",
       "       0.35353535, 0.72727273, 0.97979798, 0.92929293, 0.17171717,\n",
       "       0.8989899 , 0.68686869, 0.        , 0.3030303 , 0.32323232,\n",
       "       0.92929293, 0.71717172, 0.31313131, 0.36363636, 0.41414141,\n",
       "       0.02020202, 0.77777778, 0.16161616, 0.        , 0.72727273,\n",
       "       0.23232323, 0.18181818, 0.82828283, 0.57575758, 0.81818182,\n",
       "       0.53535354, 0.77777778, 0.31313131, 0.82828283, 0.66666667,\n",
       "       0.27272727, 0.04040404, 0.37373737, 0.29292929, 0.12121212,\n",
       "       0.78787879, 0.35353535, 0.15151515, 0.75757576, 0.84848485,\n",
       "       0.09090909, 0.50505051, 0.92929293, 0.81818182, 0.16161616,\n",
       "       0.24242424, 0.29292929, 0.84848485, 0.46464646, 0.33333333,\n",
       "       0.2020202 , 0.02020202, 0.78787879, 0.83838384, 0.91919192,\n",
       "       0.52525253, 0.41414141, 0.74747475, 0.2020202 , 0.71717172])"
      ]
     },
     "execution_count": 3,
     "metadata": {},
     "output_type": "execute_result"
    }
   ],
   "source": [
    "(x - np.min(x)) / (np.max(x) - np.min(x))"
   ]
  },
  {
   "cell_type": "code",
   "execution_count": 4,
   "metadata": {},
   "outputs": [
    {
     "data": {
      "text/plain": [
       "array([[21, 73],\n",
       "       [ 7, 75],\n",
       "       [95, 40],\n",
       "       [27, 22],\n",
       "       [15, 20],\n",
       "       [83, 59],\n",
       "       [35, 84],\n",
       "       [11, 87],\n",
       "       [46, 34],\n",
       "       [12,  1]])"
      ]
     },
     "execution_count": 4,
     "metadata": {},
     "output_type": "execute_result"
    }
   ],
   "source": [
    "X = np.random.randint(0, 100, [50, 2])\n",
    "X[:10, :]"
   ]
  },
  {
   "cell_type": "code",
   "execution_count": 6,
   "metadata": {},
   "outputs": [
    {
     "data": {
      "text/plain": [
       "array([[21., 73.],\n",
       "       [ 7., 75.],\n",
       "       [95., 40.],\n",
       "       [27., 22.],\n",
       "       [15., 20.],\n",
       "       [83., 59.],\n",
       "       [35., 84.],\n",
       "       [11., 87.],\n",
       "       [46., 34.],\n",
       "       [12.,  1.]])"
      ]
     },
     "execution_count": 6,
     "metadata": {},
     "output_type": "execute_result"
    }
   ],
   "source": [
    "X = np.array(X, dtype=float)\n",
    "X[:10, :]"
   ]
  },
  {
   "cell_type": "code",
   "execution_count": 8,
   "metadata": {},
   "outputs": [],
   "source": [
    "X[:,0] = (X[:,0] - np.min(X[:,0])) / (np.max(X[:,0]) - np.min(X[:,0]))"
   ]
  },
  {
   "cell_type": "code",
   "execution_count": 9,
   "metadata": {},
   "outputs": [],
   "source": [
    "X[:,1] = (X[:,1] - np.min(X[:,1])) / (np.max(X[:,1]) - np.min(X[:,1]))"
   ]
  },
  {
   "cell_type": "code",
   "execution_count": 10,
   "metadata": {},
   "outputs": [
    {
     "data": {
      "text/plain": [
       "array([[0.21276596, 0.76041667],\n",
       "       [0.06382979, 0.78125   ],\n",
       "       [1.        , 0.41666667],\n",
       "       [0.27659574, 0.22916667],\n",
       "       [0.14893617, 0.20833333],\n",
       "       [0.87234043, 0.61458333],\n",
       "       [0.36170213, 0.875     ],\n",
       "       [0.10638298, 0.90625   ],\n",
       "       [0.4787234 , 0.35416667],\n",
       "       [0.11702128, 0.01041667]])"
      ]
     },
     "execution_count": 10,
     "metadata": {},
     "output_type": "execute_result"
    }
   ],
   "source": [
    "X[:10,:]"
   ]
  },
  {
   "cell_type": "code",
   "execution_count": 11,
   "metadata": {},
   "outputs": [
    {
     "data": {
      "image/png": "[encoded data removed]",
      "text/plain": [
       "<Figure size 432x288 with 1 Axes>"
      ]
     },
     "metadata": {
      "needs_background": "light"
     },
     "output_type": "display_data"
    }
   ],
   "source": [
    "plt.scatter(X[:,0], X[:,1])\n",
    "plt.show()"
   ]
  },
  {
   "cell_type": "code",
   "execution_count": 15,
   "metadata": {},
   "outputs": [
    {
     "data": {
      "text/plain": [
       "0.4974468085106383"
      ]
     },
     "execution_count": 15,
     "metadata": {},
     "output_type": "execute_result"
    }
   ],
   "source": [
    "# 均值\n",
    "np.mean(X[:,0])"
   ]
  },
  {
   "cell_type": "code",
   "execution_count": 16,
   "metadata": {},
   "outputs": [
    {
     "data": {
      "text/plain": [
       "0.3318573327066368"
      ]
     },
     "execution_count": 16,
     "metadata": {},
     "output_type": "execute_result"
    }
   ],
   "source": [
    "# 方差\n",
    "np.std(X[:,0])"
   ]
  },
  {
   "cell_type": "code",
   "execution_count": 17,
   "metadata": {},
   "outputs": [
    {
     "data": {
      "text/plain": [
       "0.5254166666666668"
      ]
     },
     "execution_count": 17,
     "metadata": {},
     "output_type": "execute_result"
    }
   ],
   "source": [
    "# 均值\n",
    "np.mean(X[:,1])"
   ]
  },
  {
   "cell_type": "markdown",
   "metadata": {},
   "source": [
    "# 均值方差归一化Standardization"
   ]
  },
  {
   "cell_type": "code",
   "execution_count": 18,
   "metadata": {},
   "outputs": [],
   "source": [
    "X2 = np.random.randint(0, 100, (50, 2))"
   ]
  },
  {
   "cell_type": "code",
   "execution_count": 19,
   "metadata": {},
   "outputs": [],
   "source": [
    "X2 = np.array(X2, dtype=float)"
   ]
  },
  {
   "cell_type": "code",
   "execution_count": 20,
   "metadata": {},
   "outputs": [],
   "source": [
    "X2[:,0] = (X2[:,0] - np.mean(X2[:,0])) / np.std(X2[:,0])"
   ]
  },
  {
   "cell_type": "code",
   "execution_count": 21,
   "metadata": {},
   "outputs": [],
   "source": [
    "X2[:,1] = (X2[:,1] - np.mean(X2[:,1])) / np.std(X2[:,1])"
   ]
  },
  {
   "cell_type": "code",
   "execution_count": 22,
   "metadata": {},
   "outputs": [
    {
     "data": {
      "image/png": "[encoded data removed]",
      "text/plain": [
       "<Figure size 432x288 with 1 Axes>"
      ]
     },
     "metadata": {
      "needs_background": "light"
     },
     "output_type": "display_data"
    }
   ],
   "source": [
    "plt.scatter(X2[:,0], X2[:,1])\n",
    "plt.show()"
   ]
  },
  {
   "cell_type": "code",
   "execution_count": 23,
   "metadata": {},
   "outputs": [
    {
     "data": {
      "text/plain": [
       "-6.661338147750939e-17"
      ]
     },
     "execution_count": 23,
     "metadata": {},
     "output_type": "execute_result"
    }
   ],
   "source": [
    "np.mean(X2[:,0])"
   ]
  },
  {
   "cell_type": "code",
   "execution_count": 24,
   "metadata": {},
   "outputs": [
    {
     "data": {
      "text/plain": [
       "1.0"
      ]
     },
     "execution_count": 24,
     "metadata": {},
     "output_type": "execute_result"
    }
   ],
   "source": [
    "np.std(X2[:,0])"
   ]
  },
  {
   "cell_type": "code",
   "execution_count": 25,
   "metadata": {},
   "outputs": [
    {
     "data": {
      "text/plain": [
       "2.4424906541753444e-17"
      ]
     },
     "execution_count": 25,
     "metadata": {},
     "output_type": "execute_result"
    }
   ],
   "source": [
    "np.mean(X2[:,1])"
   ]
  },
  {
   "cell_type": "code",
   "execution_count": 26,
   "metadata": {},
   "outputs": [
    {
     "data": {
      "text/plain": [
       "1.0"
      ]
     },
     "execution_count": 26,
     "metadata": {},
     "output_type": "execute_result"
    }
   ],
   "source": [
    "np.std(X2[:,1])"
   ]
  },
  {
   "cell_type": "code",
   "execution_count": null,
   "metadata": {},
   "outputs": [],
   "source": []
  }
 ],
 "metadata": {
  "kernelspec": {
   "display_name": "Python 3",
   "language": "python",
   "name": "python3"
  },
  "language_info": {
   "codemirror_mode": {
    "name": "ipython",
    "version": 3
   },
   "file_extension": ".py",
   "mimetype": "text/x-python",
   "name": "python",
   "nbconvert_exporter": "python",
   "pygments_lexer": "ipython3",
   "version": "3.7.1"
  }
 },
 "nbformat": 4,
 "nbformat_minor": 2
}
